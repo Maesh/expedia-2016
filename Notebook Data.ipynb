{
 "cells": [
  {
   "cell_type": "code",
   "execution_count": 103,
   "metadata": {
    "collapsed": false
   },
   "outputs": [
    {
     "name": "stdout",
     "output_type": "stream",
     "text": [
      "Populating the interactive namespace from numpy and matplotlib\n"
     ]
    },
    {
     "name": "stderr",
     "output_type": "stream",
     "text": [
      "WARNING: pylab import has clobbered these variables: ['hstack']\n",
      "`%matplotlib` prevents importing * from pylab and numpy\n"
     ]
    }
   ],
   "source": [
    "import numpy as np \n",
    "import pandas as pd\n",
    "\n",
    "from sklearn import preprocessing, cross_validation, metrics\n",
    "%pylab inline\n",
    "from scipy.sparse import hstack, csr_matrix \n",
    "from datetime import datetime"
   ]
  },
  {
   "cell_type": "code",
   "execution_count": null,
   "metadata": {
    "collapsed": true
   },
   "outputs": [],
   "source": [
    "rs = 19683\n",
    "\n",
    "work_dir = '/media/maesh/Charming/Documents/Kaggle/2016/expedia/'\n",
    "\n",
    "trainfile = work_dir + 'train_parsed_booking_drop.csv'\n",
    "testfile = work_dir + 'test_parsed_booking_drop.csv'\n",
    "\n",
    "df_train = pd.read_csv(trainfile) # in both, dfs have negative values for trip len?\n",
    "df_test = pd.read_csv(testfile)"
   ]
  },
  {
   "cell_type": "code",
   "execution_count": 6,
   "metadata": {
    "collapsed": false
   },
   "outputs": [
    {
     "name": "stdout",
     "output_type": "stream",
     "text": [
      "count    3.000693e+06\n",
      "mean     3.129063e+02\n",
      "std      2.044980e+02\n",
      "min      0.000000e+00\n",
      "25%      1.740000e+02\n",
      "50%      3.140000e+02\n",
      "75%      3.950000e+02\n",
      "max      1.027000e+03\n",
      "Name: user_location_region, dtype: float64\n"
     ]
    },
    {
     "data": {
      "image/png": "[encoded data removed]",
      "text/plain": [
       "<matplotlib.figure.Figure at 0x7f24c95bc350>"
      ]
     },
     "metadata": {},
     "output_type": "display_data"
    }
   ],
   "source": [
    "print(df_train['user_location_region'].describe())\n",
    "plt.figure(figsize=(10,10))\n",
    "plt.hist(df_train['user_location_region'],bins=100)\n",
    "plt.show()"
   ]
  },
  {
   "cell_type": "markdown",
   "metadata": {},
   "source": [
    "Over 1000 possibilities, may be best to just drop it."
   ]
  },
  {
   "cell_type": "code",
   "execution_count": 164,
   "metadata": {
    "collapsed": false
   },
   "outputs": [],
   "source": [
    "hc_group = df_train['hotel_cluster'].groupby(df_train['srch_destination_id'])\n",
    "# hc_group_vcs = hc_group['hotel_cluster'].value_counts()"
   ]
  },
  {
   "cell_type": "code",
   "execution_count": 165,
   "metadata": {
    "collapsed": false
   },
   "outputs": [
    {
     "data": {
      "text/plain": [
       "<pandas.core.groupby.SeriesGroupBy object at 0x7f24c6eeaf50>"
      ]
     },
     "execution_count": 165,
     "metadata": {},
     "output_type": "execute_result"
    }
   ],
   "source": [
    "hc_group"
   ]
  },
  {
   "cell_type": "code",
   "execution_count": 160,
   "metadata": {
    "collapsed": false
   },
   "outputs": [
    {
     "data": {
      "text/plain": [
       "array([91, 48, 42, 59, 28])"
      ]
     },
     "execution_count": 160,
     "metadata": {},
     "output_type": "execute_result"
    }
   ],
   "source": [
    "df_train['hotel_cluster'].value_counts()[:5].index.get_values()"
   ]
  },
  {
   "cell_type": "code",
   "execution_count": 59,
   "metadata": {
    "collapsed": false
   },
   "outputs": [
    {
     "data": {
      "text/plain": [
       "97678"
      ]
     },
     "execution_count": 59,
     "metadata": {},
     "output_type": "execute_result"
    }
   ],
   "source": [
    "np.sum(df_train['srch_destination_id']==8250)"
   ]
  },
  {
   "cell_type": "markdown",
   "metadata": {},
   "source": [
    "Go ahead and try to make a submission"
   ]
  },
  {
   "cell_type": "code",
   "execution_count": 178,
   "metadata": {
    "collapsed": false
   },
   "outputs": [
    {
     "name": "stdout",
     "output_type": "stream",
     "text": [
      "0:00:30.081077\n"
     ]
    }
   ],
   "source": [
    "submit = pd.DataFrame()\n",
    "\n",
    "def makespace(x):    \n",
    "    return \" \".join([str(int(z)) for z in x])\n",
    "    \n",
    "def get_hc(x) :\n",
    "    return x.value_counts()[:5].index.get_values()\n",
    "\n",
    "# Top 5 hotels overall, for test srch destinations not in train\n",
    "top5_generic = makespace(df_train['hotel_cluster'].value_counts()[:5].index.get_values())\n",
    "\n",
    "def apply_to_test(x):\n",
    "    # Take IDs from test and return appropriate values\n",
    "    try :\n",
    "        return hotlist[x]\n",
    "    except :\n",
    "        return top5_generic\n",
    "    \n",
    "start = datetime.now()\n",
    "\n",
    "# Group the training set by srch destination id\n",
    "hc_group = df_train['hotel_cluster'].groupby(df_train['srch_destination_id'])\n",
    "\n",
    "# Get the top 5 values for each\n",
    "hotels = hc_group.apply(get_hc)\n",
    "\n",
    "# Make it into a list\n",
    "hotlist = hotels.apply(makespace)\n",
    "\n",
    "# Parse out test IDs\n",
    "idx = df_test['id'].values\n",
    "\n",
    "# Make Submission\n",
    "submit['id'] = idx\n",
    "submit['hotel_cluster'] = df_test['srch_destination_id'].apply(apply_to_test)\n",
    "\n",
    "print(\"%s\"%(datetime.now() - start))\n",
    "\n",
    "# df['postTestScore'].groupby(df['categories']).apply(get_stats).unstack()\n",
    "# for i, idx in enumerate(df_test['id'].values) :\n",
    "#     submit['id'][i] = idx\n",
    "#     sd_idx = df_test[df_test['id']==idx]['srch_destination_id'].values[0]\n",
    "#     try :\n",
    "#         # top 5 hotel clusters for specific srch_destination_id\n",
    "#         hotels = hc_group.get_group(sd_idx)['hotel_cluster'].value_counts()[:5].index.get_values()\n",
    "#     except KeyError:\n",
    "#         # if we don't know search destination hotel cluster, just guess top 5 overall\n",
    "#         hotels = df_train['hotel_cluster'].value_counts()[:5].index.get_values()\n",
    "#     submit['hotel_cluster'] = makespace(hotels)\n",
    "#     if i % 100000 == 0:\n",
    "#         print(\"%s\\t%s\"%(i, datetime.now() - start))"
   ]
  },
  {
   "cell_type": "code",
   "execution_count": 180,
   "metadata": {
    "collapsed": true
   },
   "outputs": [],
   "source": [
    "submit.to_csv(work_dir+'top5.srch_dest_ids.2016.04.21.csv',header=True,index=False)"
   ]
  },
  {
   "cell_type": "code",
   "execution_count": 179,
   "metadata": {
    "collapsed": false
   },
   "outputs": [
    {
     "data": {
      "text/html": [
       "<div>\n",
       "<table border=\"1\" class=\"dataframe\">\n",
       "  <thead>\n",
       "    <tr style=\"text-align: right;\">\n",
       "      <th></th>\n",
       "      <th>id</th>\n",
       "      <th>hotel_cluster</th>\n",
       "    </tr>\n",
       "  </thead>\n",
       "  <tbody>\n",
       "    <tr>\n",
       "      <th>0</th>\n",
       "      <td>0</td>\n",
       "      <td>55 37 5 22 11</td>\n",
       "    </tr>\n",
       "    <tr>\n",
       "      <th>1</th>\n",
       "      <td>1</td>\n",
       "      <td>91 48 42 59 28</td>\n",
       "    </tr>\n",
       "    <tr>\n",
       "      <th>2</th>\n",
       "      <td>2</td>\n",
       "      <td>0 31 77 91 59</td>\n",
       "    </tr>\n",
       "    <tr>\n",
       "      <th>3</th>\n",
       "      <td>3</td>\n",
       "      <td>1 45 79 24 54</td>\n",
       "    </tr>\n",
       "    <tr>\n",
       "      <th>4</th>\n",
       "      <td>4</td>\n",
       "      <td>91 2 42 59 48</td>\n",
       "    </tr>\n",
       "    <tr>\n",
       "      <th>5</th>\n",
       "      <td>5</td>\n",
       "      <td>91 42 28 95 4</td>\n",
       "    </tr>\n",
       "    <tr>\n",
       "      <th>6</th>\n",
       "      <td>6</td>\n",
       "      <td>95 2 21 98 33</td>\n",
       "    </tr>\n",
       "    <tr>\n",
       "      <th>7</th>\n",
       "      <td>7</td>\n",
       "      <td>95 98 18 68 91</td>\n",
       "    </tr>\n",
       "    <tr>\n",
       "      <th>8</th>\n",
       "      <td>8</td>\n",
       "      <td>1 45 79 24 54</td>\n",
       "    </tr>\n",
       "    <tr>\n",
       "      <th>9</th>\n",
       "      <td>9</td>\n",
       "      <td>55 32 34 10 4</td>\n",
       "    </tr>\n",
       "    <tr>\n",
       "      <th>10</th>\n",
       "      <td>10</td>\n",
       "      <td>33 19 4 18 21</td>\n",
       "    </tr>\n",
       "    <tr>\n",
       "      <th>11</th>\n",
       "      <td>11</td>\n",
       "      <td>25 38 6 82 75</td>\n",
       "    </tr>\n",
       "    <tr>\n",
       "      <th>12</th>\n",
       "      <td>12</td>\n",
       "      <td>0 31 77 91 59</td>\n",
       "    </tr>\n",
       "    <tr>\n",
       "      <th>13</th>\n",
       "      <td>13</td>\n",
       "      <td>9 6 17 37 89</td>\n",
       "    </tr>\n",
       "    <tr>\n",
       "      <th>14</th>\n",
       "      <td>14</td>\n",
       "      <td>95 28 91 72 83</td>\n",
       "    </tr>\n",
       "    <tr>\n",
       "      <th>15</th>\n",
       "      <td>15</td>\n",
       "      <td>48 47 42 17 77</td>\n",
       "    </tr>\n",
       "    <tr>\n",
       "      <th>16</th>\n",
       "      <td>16</td>\n",
       "      <td>71 34 77 0 18</td>\n",
       "    </tr>\n",
       "    <tr>\n",
       "      <th>17</th>\n",
       "      <td>17</td>\n",
       "      <td>6 91 18 48 59</td>\n",
       "    </tr>\n",
       "    <tr>\n",
       "      <th>18</th>\n",
       "      <td>18</td>\n",
       "      <td>59 21 42 19 25</td>\n",
       "    </tr>\n",
       "    <tr>\n",
       "      <th>19</th>\n",
       "      <td>19</td>\n",
       "      <td>95 59 68 91 9</td>\n",
       "    </tr>\n",
       "    <tr>\n",
       "      <th>20</th>\n",
       "      <td>20</td>\n",
       "      <td>91 18 42 4 13</td>\n",
       "    </tr>\n",
       "    <tr>\n",
       "      <th>21</th>\n",
       "      <td>21</td>\n",
       "      <td>56 83 41 49 77</td>\n",
       "    </tr>\n",
       "    <tr>\n",
       "      <th>22</th>\n",
       "      <td>22</td>\n",
       "      <td>9 6 17 37 89</td>\n",
       "    </tr>\n",
       "    <tr>\n",
       "      <th>23</th>\n",
       "      <td>23</td>\n",
       "      <td>65 66 87 81 62</td>\n",
       "    </tr>\n",
       "    <tr>\n",
       "      <th>24</th>\n",
       "      <td>24</td>\n",
       "      <td>56 70 98 41 55</td>\n",
       "    </tr>\n",
       "    <tr>\n",
       "      <th>25</th>\n",
       "      <td>25</td>\n",
       "      <td>56 70 98 41 55</td>\n",
       "    </tr>\n",
       "    <tr>\n",
       "      <th>26</th>\n",
       "      <td>26</td>\n",
       "      <td>99 9 2 46 68</td>\n",
       "    </tr>\n",
       "    <tr>\n",
       "      <th>27</th>\n",
       "      <td>27</td>\n",
       "      <td>48 39 73 40 14</td>\n",
       "    </tr>\n",
       "    <tr>\n",
       "      <th>28</th>\n",
       "      <td>28</td>\n",
       "      <td>91 48 43 7 47</td>\n",
       "    </tr>\n",
       "    <tr>\n",
       "      <th>29</th>\n",
       "      <td>29</td>\n",
       "      <td>65 66 52 87 96</td>\n",
       "    </tr>\n",
       "    <tr>\n",
       "      <th>...</th>\n",
       "      <td>...</td>\n",
       "      <td>...</td>\n",
       "    </tr>\n",
       "    <tr>\n",
       "      <th>2528213</th>\n",
       "      <td>2528213</td>\n",
       "      <td>94 16</td>\n",
       "    </tr>\n",
       "    <tr>\n",
       "      <th>2528214</th>\n",
       "      <td>2528214</td>\n",
       "      <td>8 77 51</td>\n",
       "    </tr>\n",
       "    <tr>\n",
       "      <th>2528215</th>\n",
       "      <td>2528215</td>\n",
       "      <td>43 42 94 50 47</td>\n",
       "    </tr>\n",
       "    <tr>\n",
       "      <th>2528216</th>\n",
       "      <td>2528216</td>\n",
       "      <td>48 91 83 51 94</td>\n",
       "    </tr>\n",
       "    <tr>\n",
       "      <th>2528217</th>\n",
       "      <td>2528217</td>\n",
       "      <td>16 48 42 90 85</td>\n",
       "    </tr>\n",
       "    <tr>\n",
       "      <th>2528218</th>\n",
       "      <td>2528218</td>\n",
       "      <td>64 21 25 59 37</td>\n",
       "    </tr>\n",
       "    <tr>\n",
       "      <th>2528219</th>\n",
       "      <td>2528219</td>\n",
       "      <td>32 43 30 5 83</td>\n",
       "    </tr>\n",
       "    <tr>\n",
       "      <th>2528220</th>\n",
       "      <td>2528220</td>\n",
       "      <td>17 54 96 10 48</td>\n",
       "    </tr>\n",
       "    <tr>\n",
       "      <th>2528221</th>\n",
       "      <td>2528221</td>\n",
       "      <td>91 50 15 22 42</td>\n",
       "    </tr>\n",
       "    <tr>\n",
       "      <th>2528222</th>\n",
       "      <td>2528222</td>\n",
       "      <td>28 91 40 18 48</td>\n",
       "    </tr>\n",
       "    <tr>\n",
       "      <th>2528223</th>\n",
       "      <td>2528223</td>\n",
       "      <td>39 18 2 77 40</td>\n",
       "    </tr>\n",
       "    <tr>\n",
       "      <th>2528224</th>\n",
       "      <td>2528224</td>\n",
       "      <td>32 50 48 28 42</td>\n",
       "    </tr>\n",
       "    <tr>\n",
       "      <th>2528225</th>\n",
       "      <td>2528225</td>\n",
       "      <td>22 8 99 64 9</td>\n",
       "    </tr>\n",
       "    <tr>\n",
       "      <th>2528226</th>\n",
       "      <td>2528226</td>\n",
       "      <td>95 99 98 25 4</td>\n",
       "    </tr>\n",
       "    <tr>\n",
       "      <th>2528227</th>\n",
       "      <td>2528227</td>\n",
       "      <td>59 34 29 91 42</td>\n",
       "    </tr>\n",
       "    <tr>\n",
       "      <th>2528228</th>\n",
       "      <td>2528228</td>\n",
       "      <td>82 36 62 29 58</td>\n",
       "    </tr>\n",
       "    <tr>\n",
       "      <th>2528229</th>\n",
       "      <td>2528229</td>\n",
       "      <td>62 58 22 44 67</td>\n",
       "    </tr>\n",
       "    <tr>\n",
       "      <th>2528230</th>\n",
       "      <td>2528230</td>\n",
       "      <td>46 82 43 62 81</td>\n",
       "    </tr>\n",
       "    <tr>\n",
       "      <th>2528231</th>\n",
       "      <td>2528231</td>\n",
       "      <td>31 7 91 47 39</td>\n",
       "    </tr>\n",
       "    <tr>\n",
       "      <th>2528232</th>\n",
       "      <td>2528232</td>\n",
       "      <td>1 45 79 24 54</td>\n",
       "    </tr>\n",
       "    <tr>\n",
       "      <th>2528233</th>\n",
       "      <td>2528233</td>\n",
       "      <td>95 19 4 21 91</td>\n",
       "    </tr>\n",
       "    <tr>\n",
       "      <th>2528234</th>\n",
       "      <td>2528234</td>\n",
       "      <td>59 81 77 87 62</td>\n",
       "    </tr>\n",
       "    <tr>\n",
       "      <th>2528235</th>\n",
       "      <td>2528235</td>\n",
       "      <td>82</td>\n",
       "    </tr>\n",
       "    <tr>\n",
       "      <th>2528236</th>\n",
       "      <td>2528236</td>\n",
       "      <td>15 47 90 42 77</td>\n",
       "    </tr>\n",
       "    <tr>\n",
       "      <th>2528237</th>\n",
       "      <td>2528237</td>\n",
       "      <td>26 73 84 9 92</td>\n",
       "    </tr>\n",
       "    <tr>\n",
       "      <th>2528238</th>\n",
       "      <td>2528238</td>\n",
       "      <td>26 73 0 34 84</td>\n",
       "    </tr>\n",
       "    <tr>\n",
       "      <th>2528239</th>\n",
       "      <td>2528239</td>\n",
       "      <td>91 48 42 59 28</td>\n",
       "    </tr>\n",
       "    <tr>\n",
       "      <th>2528240</th>\n",
       "      <td>2528240</td>\n",
       "      <td>1 45 79 24 54</td>\n",
       "    </tr>\n",
       "    <tr>\n",
       "      <th>2528241</th>\n",
       "      <td>2528241</td>\n",
       "      <td>50 47 43 15 32</td>\n",
       "    </tr>\n",
       "    <tr>\n",
       "      <th>2528242</th>\n",
       "      <td>2528242</td>\n",
       "      <td>12 36 81 62 15</td>\n",
       "    </tr>\n",
       "  </tbody>\n",
       "</table>\n",
       "<p>2528243 rows × 2 columns</p>\n",
       "</div>"
      ],
      "text/plain": [
       "              id   hotel_cluster\n",
       "0              0   55 37 5 22 11\n",
       "1              1  91 48 42 59 28\n",
       "2              2   0 31 77 91 59\n",
       "3              3   1 45 79 24 54\n",
       "4              4   91 2 42 59 48\n",
       "5              5   91 42 28 95 4\n",
       "6              6   95 2 21 98 33\n",
       "7              7  95 98 18 68 91\n",
       "8              8   1 45 79 24 54\n",
       "9              9   55 32 34 10 4\n",
       "10            10   33 19 4 18 21\n",
       "11            11   25 38 6 82 75\n",
       "12            12   0 31 77 91 59\n",
       "13            13    9 6 17 37 89\n",
       "14            14  95 28 91 72 83\n",
       "15            15  48 47 42 17 77\n",
       "16            16   71 34 77 0 18\n",
       "17            17   6 91 18 48 59\n",
       "18            18  59 21 42 19 25\n",
       "19            19   95 59 68 91 9\n",
       "20            20   91 18 42 4 13\n",
       "21            21  56 83 41 49 77\n",
       "22            22    9 6 17 37 89\n",
       "23            23  65 66 87 81 62\n",
       "24            24  56 70 98 41 55\n",
       "25            25  56 70 98 41 55\n",
       "26            26    99 9 2 46 68\n",
       "27            27  48 39 73 40 14\n",
       "28            28   91 48 43 7 47\n",
       "29            29  65 66 52 87 96\n",
       "...          ...             ...\n",
       "2528213  2528213           94 16\n",
       "2528214  2528214         8 77 51\n",
       "2528215  2528215  43 42 94 50 47\n",
       "2528216  2528216  48 91 83 51 94\n",
       "2528217  2528217  16 48 42 90 85\n",
       "2528218  2528218  64 21 25 59 37\n",
       "2528219  2528219   32 43 30 5 83\n",
       "2528220  2528220  17 54 96 10 48\n",
       "2528221  2528221  91 50 15 22 42\n",
       "2528222  2528222  28 91 40 18 48\n",
       "2528223  2528223   39 18 2 77 40\n",
       "2528224  2528224  32 50 48 28 42\n",
       "2528225  2528225    22 8 99 64 9\n",
       "2528226  2528226   95 99 98 25 4\n",
       "2528227  2528227  59 34 29 91 42\n",
       "2528228  2528228  82 36 62 29 58\n",
       "2528229  2528229  62 58 22 44 67\n",
       "2528230  2528230  46 82 43 62 81\n",
       "2528231  2528231   31 7 91 47 39\n",
       "2528232  2528232   1 45 79 24 54\n",
       "2528233  2528233   95 19 4 21 91\n",
       "2528234  2528234  59 81 77 87 62\n",
       "2528235  2528235              82\n",
       "2528236  2528236  15 47 90 42 77\n",
       "2528237  2528237   26 73 84 9 92\n",
       "2528238  2528238   26 73 0 34 84\n",
       "2528239  2528239  91 48 42 59 28\n",
       "2528240  2528240   1 45 79 24 54\n",
       "2528241  2528241  50 47 43 15 32\n",
       "2528242  2528242  12 36 81 62 15\n",
       "\n",
       "[2528243 rows x 2 columns]"
      ]
     },
     "execution_count": 179,
     "metadata": {},
     "output_type": "execute_result"
    }
   ],
   "source": [
    "submit"
   ]
  },
  {
   "cell_type": "code",
   "execution_count": 181,
   "metadata": {
    "collapsed": false
   },
   "outputs": [
    {
     "data": {
      "text/plain": [
       "15246"
      ]
     },
     "execution_count": 181,
     "metadata": {},
     "output_type": "execute_result"
    }
   ],
   "source": [
    "df_test['srch_destination_id'][2528234]"
   ]
  },
  {
   "cell_type": "code",
   "execution_count": 182,
   "metadata": {
    "collapsed": false
   },
   "outputs": [
    {
     "data": {
      "text/plain": [
       "'59 81 77 87 62'"
      ]
     },
     "execution_count": 182,
     "metadata": {},
     "output_type": "execute_result"
    }
   ],
   "source": [
    "hotlist[15246]"
   ]
  },
  {
   "cell_type": "code",
   "execution_count": null,
   "metadata": {
    "collapsed": true
   },
   "outputs": [],
   "source": []
  }
 ],
 "metadata": {
  "kernelspec": {
   "display_name": "Python 2",
   "language": "python",
   "name": "python2"
  },
  "language_info": {
   "codemirror_mode": {
    "name": "ipython",
    "version": 2
   },
   "file_extension": ".py",
   "mimetype": "text/x-python",
   "name": "python",
   "nbconvert_exporter": "python",
   "pygments_lexer": "ipython2",
   "version": "2.7.11"
  }
 },
 "nbformat": 4,
 "nbformat_minor": 0
}
