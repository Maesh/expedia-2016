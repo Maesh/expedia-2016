{
 "cells": [
  {
   "cell_type": "code",
   "execution_count": 103,
   "metadata": {
    "collapsed": false
   },
   "outputs": [
    {
     "name": "stdout",
     "output_type": "stream",
     "text": [
      "Populating the interactive namespace from numpy and matplotlib\n"
     ]
    },
    {
     "name": "stderr",
     "output_type": "stream",
     "text": [
      "WARNING: pylab import has clobbered these variables: ['hstack']\n",
      "`%matplotlib` prevents importing * from pylab and numpy\n"
     ]
    }
   ],
   "source": [
    "import numpy as np \n",
    "import pandas as pd\n",
    "\n",
    "from sklearn import preprocessing, cross_validation, metrics\n",
    "%pylab inline\n",
    "from scipy.sparse import hstack, csr_matrix \n",
    "from datetime import datetime"
   ]
  },
  {
   "cell_type": "code",
   "execution_count": null,
   "metadata": {
    "collapsed": true
   },
   "outputs": [],
   "source": [
    "rs = 19683\n",
    "\n",
    "work_dir = '/media/maesh/Charming/Documents/Kaggle/2016/expedia/'\n",
    "\n",
    "trainfile = work_dir + 'train_parsed_booking_drop.csv'\n",
    "testfile = work_dir + 'test_parsed_booking_drop.csv'\n",
    "\n",
    "df_train = pd.read_csv(trainfile) # in both, dfs have negative values for trip len?\n",
    "df_test = pd.read_csv(testfile)"
   ]
  },
  {
   "cell_type": "code",
   "execution_count": 6,
   "metadata": {
    "collapsed": false
   },
   "outputs": [
    {
     "name": "stdout",
     "output_type": "stream",
     "text": [
      "count    3.000693e+06\n",
      "mean     3.129063e+02\n",
      "std      2.044980e+02\n",
      "min      0.000000e+00\n",
      "25%      1.740000e+02\n",
      "50%      3.140000e+02\n",
      "75%      3.950000e+02\n",
      "max      1.027000e+03\n",
      "Name: user_location_region, dtype: float64\n"
     ]
    },
    {
     "data": {
      "image/png": "[encoded data removed]",
      "text/plain": [
       "<matplotlib.figure.Figure at 0x7f24c95bc350>"
      ]
     },
     "metadata": {},
     "output_type": "display_data"
    }
   ],
   "source": [
    "print(df_train['user_location_region'].describe())\n",
    "plt.figure(figsize=(10,10))\n",
    "plt.hist(df_train['user_location_region'],bins=100)\n",
    "plt.show()"
   ]
  },
  {
   "cell_type": "markdown",
   "metadata": {},
   "source": [
    "Over 1000 possibilities, may be best to just drop it."
   ]
  },
  {
   "cell_type": "code",
   "execution_count": 66,
   "metadata": {
    "collapsed": false
   },
   "outputs": [],
   "source": [
    "hc_group = df_train.groupby(df_train['srch_destination_id'])\n",
    "# hc_group_vcs = hc_group['hotel_cluster'].value_counts()"
   ]
  },
  {
   "cell_type": "code",
   "execution_count": 85,
   "metadata": {
    "collapsed": false
   },
   "outputs": [
    {
     "data": {
      "text/plain": [
       "array([ 1, 45, 79, 24, 54])"
      ]
     },
     "execution_count": 85,
     "metadata": {},
     "output_type": "execute_result"
    }
   ],
   "source": [
    "hc_group.get_group(8250)['hotel_cluster'].value_counts()[:5].index.get_values()"
   ]
  },
  {
   "cell_type": "code",
   "execution_count": 100,
   "metadata": {
    "collapsed": false
   },
   "outputs": [
    {
     "data": {
      "text/plain": [
       "array([91, 48, 42, 59, 28])"
      ]
     },
     "execution_count": 100,
     "metadata": {},
     "output_type": "execute_result"
    }
   ],
   "source": [
    "df_train['hotel_cluster'].value_counts()[:5].index.get_values()"
   ]
  },
  {
   "cell_type": "code",
   "execution_count": 59,
   "metadata": {
    "collapsed": false
   },
   "outputs": [
    {
     "data": {
      "text/plain": [
       "97678"
      ]
     },
     "execution_count": 59,
     "metadata": {},
     "output_type": "execute_result"
    }
   ],
   "source": [
    "np.sum(df_train['srch_destination_id']==8250)"
   ]
  },
  {
   "cell_type": "markdown",
   "metadata": {},
   "source": [
    "Go ahead and try to make a submission"
   ]
  },
  {
   "cell_type": "code",
   "execution_count": null,
   "metadata": {
    "collapsed": false
   },
   "outputs": [],
   "source": [
    "submit = pd.DataFrame()\n",
    "\n",
    "def makespace(x):    \n",
    "    return \" \".join([str(int(z)) for z in x])\n",
    "\n",
    "start = datetime.now()\n",
    "for i, idx in enumerate(df_test['id'].values) :\n",
    "    submit['id'] = idx\n",
    "    sd_idx = df_test[df_test['id']==idx]['srch_destination_id'].values[0]\n",
    "    try :\n",
    "        # top 5 hotel clusters for specific srch_destination_id\n",
    "        hotels = hc_group.get_group(sd_idx)['hotel_cluster'].value_counts()[:5].index.get_values()\n",
    "    except KeyError:\n",
    "        # if we don't know search destination hotel cluster, just guess top 5 overall\n",
    "        hotels = df_train['hotel_cluster'].value_counts()[:5].index.get_values()\n",
    "    submit['hotel_cluster'] = makespace(hotels)\n",
    "    if i % 1000000 == 0:\n",
    "        print(\"%s\\t%s\"%(i, datetime.now() - start))"
   ]
  },
  {
   "cell_type": "code",
   "execution_count": null,
   "metadata": {
    "collapsed": true
   },
   "outputs": [],
   "source": []
  }
 ],
 "metadata": {
  "kernelspec": {
   "display_name": "Python 2",
   "language": "python",
   "name": "python2"
  },
  "language_info": {
   "codemirror_mode": {
    "name": "ipython",
    "version": 2
   },
   "file_extension": ".py",
   "mimetype": "text/x-python",
   "name": "python",
   "nbconvert_exporter": "python",
   "pygments_lexer": "ipython2",
   "version": "2.7.11"
  }
 },
 "nbformat": 4,
 "nbformat_minor": 0
}
